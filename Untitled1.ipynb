{
 "cells": [
  {
   "cell_type": "markdown",
   "id": "7da246d7",
   "metadata": {},
   "source": [
    "## Exercício extra folha de pagamento"
   ]
  },
  {
   "cell_type": "code",
   "execution_count": 5,
   "id": "1585a7a9",
   "metadata": {},
   "outputs": [
    {
     "name": "stdout",
     "output_type": "stream",
     "text": [
      "Insira o seu salário: 1100\n",
      "    Salário Bruto:     1100.00\n",
      "(-) Imposto de Renda:  55.00\n",
      "(-) Sindicato 3%       33.00\n",
      "    FGTS 11%:          121.00\n",
      "    Total Descontos:   88.00\n",
      "    Salário liquido:   1012.00\n"
     ]
    }
   ],
   "source": [
    "## Faça um programa para o cálculo de uma folha de pagamento, sabendo que os descontos são do Imposto de Renda,\n",
    "## que depende do salário bruto (conforme tabela abaixo) e 3% para o Sindicato e que o FGTS corresponde a 11% do Salário Bruto\n",
    "## mas não é descontado (é a empresa que deposita). O Salário Líquido corresponde ao Salário Bruto menos os descontos.\n",
    "## O programa deverá pedir ao usuário o valor da sua hora e a quantidade de horas trabalhadas no mês.\n",
    "## Desconto de IR:\n",
    "## Salário bruto até 900 (inclusive) - Isento\n",
    "## Salário bruto até 1500 (inclusive) - Desconto de 5%\n",
    "## Salário bruto até 2500 (inclusive) - Desconto de 10%\n",
    "## Salário bruto acima de 2500 - Desconto de 20%.\n",
    "\n",
    "salario = float(input('Insira o seu salário: '))\n",
    "\n",
    "sindicato = 0.03 * salario\n",
    "\n",
    "## FGTS não é descontado, porém é demonstrado.\n",
    "fgts = 0.11 * salario\n",
    "\n",
    "if salario < 900:\n",
    "    ir = 0\n",
    "elif salario < 1500:\n",
    "    ir = 0.05 * salario\n",
    "elif salario < 2500: \n",
    "    ir = 0.1 * salario  \n",
    "else:\n",
    "    ir = 0.2 * salario\n",
    "\n",
    "descontos = sindicato + ir \n",
    "liquido = salario - sindicato - ir\n",
    "\n",
    "print ('    Salário Bruto:     {:.2f}'.format(salario))\n",
    "print ('(-) Imposto de Renda:  {:.2f}'.format(ir))\n",
    "print ('(-) Sindicato 3%       {:.2f}'.format(sindicato))\n",
    "print ('    FGTS 11%:          {:.2f}'.format(fgts))\n",
    "print ('    Total Descontos:   {:.2f}'.format(sindicato+ir))\n",
    "print ('    Salário liquido:   {:.2f}'.format(liquido))"
   ]
  },
  {
   "cell_type": "markdown",
   "id": "94b321d6",
   "metadata": {},
   "source": [
    "## Exercício Extra Notas "
   ]
  },
  {
   "cell_type": "code",
   "execution_count": 25,
   "id": "f8aa6e60",
   "metadata": {},
   "outputs": [
    {
     "name": "stdout",
     "output_type": "stream",
     "text": [
      "Insira a 1ª nota: 8\n",
      "Insira a 2ª nota: 9\n",
      "Insira a 3ª nota: 8\n",
      "\n",
      "\n",
      "\n",
      "\n",
      "\n",
      "A sua primeira nota foi: 8.0\n",
      "A sua segunda nota foi:  9.0\n",
      "A sua terceira nota foi: 8.0\n",
      "A sua média é:           8.333333333333334\n",
      "Você obteve um conceito: B\n",
      "Você APROVADO!\n"
     ]
    }
   ],
   "source": [
    "## Faça um programa que lê as duas notas parciais obtidas por um aluno numa disciplina ao longo de um semestre, \n",
    "## e calcule a sua média. A atribuição de conceitos obedece à tabela abaixo:\n",
    "## Média de Aproveitamento  Conceito\n",
    "## Entre 9.0 e 10.0                      A\n",
    "## Entre 7.5 e 9.0                       B\n",
    "## Entre 6.0 e 7.5                       C\n",
    "## Entre 4.0 e 6.0                       D\n",
    "## Entre 4.0 e zero                      E\n",
    "        \n",
    "## O algoritmo deve mostrar na tela as notas, a média, o conceito correspondente e a mensagem “APROVADO” se o conceito for A,\n",
    "## B ou C ou “REPROVADO” se o conceito for D ou E.\n",
    "\n",
    "nota1 = float(input('Insira a 1ª nota: '))\n",
    "nota2 = float(input('Insira a 2ª nota: '))\n",
    "nota3 = float(input('Insira a 3ª nota: '))\n",
    "media = (nota1 + nota2 +nota3)/3\n",
    "\n",
    "if media >= 9:\n",
    "    conceito = 'A'\n",
    "    status = 'APROVADO'\n",
    "    \n",
    "elif media >= 7.5:\n",
    "    conceito = 'B'\n",
    "    status = 'APROVADO'\n",
    "    \n",
    "elif media >= 6:\n",
    "    conceito = 'C'\n",
    "    status = 'APROVADO'\n",
    "    \n",
    "elif media >= 4:\n",
    "    conceito = 'D'\n",
    "    status = 'REPROVADO'\n",
    "    \n",
    "else:\n",
    "    conceito = 'E'\n",
    "    status = 'REPROVADO'\n",
    "    \n",
    "print ('''\n",
    "\n",
    "\n",
    "\n",
    "''')    \n",
    "print ('A sua primeira nota foi: {}'.format(nota1))\n",
    "print ('A sua segunda nota foi:  {}'.format(nota2))   \n",
    "print ('A sua terceira nota foi: {}'.format(nota3))\n",
    "print ('A sua média é:           {}'.format(media)) \n",
    "print ('Você obteve um conceito: {}'.format(conceito))\n",
    "print ('Você {}!'.format(status))"
   ]
  },
  {
   "cell_type": "code",
   "execution_count": null,
   "id": "5362f0af",
   "metadata": {},
   "outputs": [],
   "source": []
  }
 ],
 "metadata": {
  "kernelspec": {
   "display_name": "Python 3",
   "language": "python",
   "name": "python3"
  },
  "language_info": {
   "codemirror_mode": {
    "name": "ipython",
    "version": 3
   },
   "file_extension": ".py",
   "mimetype": "text/x-python",
   "name": "python",
   "nbconvert_exporter": "python",
   "pygments_lexer": "ipython3",
   "version": "3.8.8"
  }
 },
 "nbformat": 4,
 "nbformat_minor": 5
}
