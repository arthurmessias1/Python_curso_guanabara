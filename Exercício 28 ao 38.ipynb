{
 "cells": [
  {
   "cell_type": "markdown",
   "id": "5e17e873",
   "metadata": {},
   "source": [
    "## Exercício 28 - Adivinhação número"
   ]
  },
  {
   "cell_type": "code",
   "execution_count": 18,
   "id": "a4b28237",
   "metadata": {},
   "outputs": [
    {
     "name": "stdout",
     "output_type": "stream",
     "text": [
      "Digite um número entre 1 e 5:   3\n",
      "__________________________________________________\n",
      "\n",
      "Acertou mizeravi, o número era 3.\n"
     ]
    }
   ],
   "source": [
    "## Vou pensar em um número entre 0 e 5, tente adivinhar.\n",
    "\n",
    "import random\n",
    "\n",
    "a = int(input('Digite um número entre 1 e 5:   '))\n",
    "x = random.randint(1,5)\n",
    "\n",
    "print ('_' *50)\n",
    "print ('')\n",
    "\n",
    "if a == x:\n",
    "    print ('Acertou mizeravi, o número era {}.'.format(a))\n",
    "else:\n",
    "    print ('Errou, eu pensei no {}.'.format(x))\n",
    "\n"
   ]
  },
  {
   "cell_type": "markdown",
   "id": "53181824",
   "metadata": {},
   "source": [
    "## Exercício 29 - Radar de velocidade"
   ]
  },
  {
   "cell_type": "code",
   "execution_count": 24,
   "id": "6de23875",
   "metadata": {},
   "outputs": [
    {
     "name": "stdout",
     "output_type": "stream",
     "text": [
      "Tudo certo, você passou com 65 de velocidade, dentro do limite permitido de 80km/h.\n"
     ]
    }
   ],
   "source": [
    "## Escreva um programa que leia a velocidade de um carro. \n",
    "## Se ele ultrapassar 80km/h, mostre uma mensagem dizendo que ele foi multado.\n",
    "## A multa vai custar R$ 7,00 por cada KM acima do limite.\n",
    "\n",
    "velo = random.randint(60,100)\n",
    "multa = (velo-80)*7 \n",
    "\n",
    "if velo > 80:\n",
    "    print ('Eita, sua velocidade foi de {}, prepare-se para pagar R${} de multa.'.format(velo,multa))\n",
    "else:\n",
    "    print ('Tudo certo, você passou com {} de velocidade, dentro do limite permitido de 80km/h.'.format(velo))\n",
    "\n"
   ]
  },
  {
   "cell_type": "markdown",
   "id": "bfaebc94",
   "metadata": {},
   "source": [
    "## Exercício 31 - Custo da viagem"
   ]
  },
  {
   "cell_type": "code",
   "execution_count": 31,
   "id": "d387e0f5",
   "metadata": {},
   "outputs": [
    {
     "name": "stdout",
     "output_type": "stream",
     "text": [
      "Digite a distância da viagem em KM: 100\n",
      "O valor da viagem será R$50.0.\n"
     ]
    }
   ],
   "source": [
    "## Desenvolva um programa que pergunta a distância de uma viagem em KM.\n",
    "## Calcule o preço da passagem, cobrando R$0,50 por Km para viagens até 200KM e R$0,45 para viagens mais longas.\n",
    "\n",
    "x = int(input('Digite a distância da viagem em KM: '))\n",
    "curta = 0.50 * x\n",
    "longa = 0.45 * x\n",
    "\n",
    "if x <= 200:\n",
    "    print ('O valor da viagem será R${}.'.format(curta))\n",
    "else:\n",
    "    print ('O valor da viagem será R${}.'.format(longa))\n",
    "\n",
    "\n"
   ]
  },
  {
   "cell_type": "markdown",
   "id": "30300259",
   "metadata": {},
   "source": [
    "## Exercício 33 - maior e menor valores dentre 3 digitados"
   ]
  },
  {
   "cell_type": "code",
   "execution_count": 33,
   "id": "490ea26c",
   "metadata": {},
   "outputs": [
    {
     "name": "stdout",
     "output_type": "stream",
     "text": [
      "Digite o primeiro número: 2\n",
      "Digite o segundo número: 3\n",
      "Digite o terceiro número: 5\n",
      "O menor valor dito é 2\n",
      "O maior valor dito é 5\n"
     ]
    }
   ],
   "source": [
    "## Faça um programa que leia três números e mostre qual é o maior e qual é o menor.\n",
    "\n",
    "a = int(input('Digite o primeiro número: '))\n",
    "b = int(input('Digite o segundo número: '))\n",
    "c = int(input('Digite o terceiro número: '))\n",
    "list = [a,b,c]\n",
    "\n",
    "print ('O menor valor dito é {}'.format(min(list)))\n",
    "print ('O maior valor dito é {}'.format(max(list)))\n"
   ]
  },
  {
   "cell_type": "markdown",
   "id": "cabc7c2d",
   "metadata": {},
   "source": [
    "## Exercício 34 - Aumentos múltiplos"
   ]
  },
  {
   "cell_type": "code",
   "execution_count": 37,
   "id": "79101822",
   "metadata": {},
   "outputs": [
    {
     "name": "stdout",
     "output_type": "stream",
     "text": [
      "Digite o valor do salário atual: 1200\n",
      "O salário atual é R$ 1200.0.\n",
      "O novo salário será de R$ 1380.0.\n"
     ]
    }
   ],
   "source": [
    "## Escreva um programa que pergunte o salário de um funcionário e calcule o valor do seu aumento.\n",
    "## Para salários superiores a R$1.250,00, calcule um aumento de 10%. \n",
    "##Para os inferiores ou iguais, o aumento é de 15%.\n",
    "\n",
    "salario = float(input('Digite o valor do salário atual: '))\n",
    "if salario>1250:\n",
    "    novosalario = salario+(salario*(10/100))\n",
    "else:\n",
    "    novosalario = salario+(salario*(15/100))\n",
    "\n",
    "print ('O salário atual é R$ {}.'.format(salario))\n",
    "print ('O novo salário será de R$ {}.'.format(novosalario))"
   ]
  },
  {
   "cell_type": "markdown",
   "id": "6494ed05",
   "metadata": {},
   "source": [
    "## Exercício 36 - Aprovando um emprestimo"
   ]
  },
  {
   "cell_type": "code",
   "execution_count": 45,
   "id": "8c506eff",
   "metadata": {},
   "outputs": [
    {
     "name": "stdout",
     "output_type": "stream",
     "text": [
      "Qual é o valor da casa que você deseja comprar? 20000\n",
      "Qual é o seu salário? 2000\n",
      "Em quantos anos deseja pagar o empréstimo? 20\n",
      "O valor da prestação da casa seria de 83.33.\n",
      "Aprovado\n"
     ]
    }
   ],
   "source": [
    "## Escreva um programa para aprovar um empréstimo bancário para a compra de uma casa.\n",
    "## Pergunta o valor da casa, o salário do comprador e em quantos anos ele vai pagar.\n",
    "## A prestação mensal não pode exceder 30% do salário ou então o empréstimo será negado.\n",
    "\n",
    "casa = float(input('Qual é o valor da casa que você deseja comprar? '))\n",
    "salario = float(input('Qual é o seu salário? '))\n",
    "anos = int(input('Em quantos anos deseja pagar o empréstimo? '))\n",
    "prestacao = casa / (anos*12)\n",
    "\n",
    "\n",
    "print ('O valor da prestação da casa seria de {:.2f}.'.format (prestacao))\n",
    "\n",
    "if prestacao <= 0.3 * salario:\n",
    "    print('Aprovado')\n",
    "else:\n",
    "    print('Negado')\n",
    "    \n",
    "    \n",
    "\n"
   ]
  },
  {
   "cell_type": "markdown",
   "id": "bd635a39",
   "metadata": {},
   "source": [
    "## Exercício 37 - Convertendo um número em outras bases"
   ]
  },
  {
   "cell_type": "code",
   "execution_count": 51,
   "id": "25ff35bd",
   "metadata": {},
   "outputs": [
    {
     "name": "stdout",
     "output_type": "stream",
     "text": [
      "Digite um número inteiro: 93\n",
      "Escolha uma das bases para conversão:\n",
      "[ 1 ] converter para BINÁRIO\n",
      "[ 2 ] converter para OCTAL\n",
      "[ 3 ] converter para HEXADECIMAL\n",
      "Sua opção é: 1\n",
      "93 convertido para BINÁRIO é igual a 1011101\n"
     ]
    }
   ],
   "source": [
    "## Escreve um programa que leia um número inteiro qualquer e peça para o usuário escolher qual será a base de conversão.\n",
    "\n",
    "num = int(input('Digite um número inteiro: '))\n",
    "print('''Escolha uma das bases para conversão:\n",
    "[ 1 ] converter para BINÁRIO\n",
    "[ 2 ] converter para OCTAL\n",
    "[ 3 ] converter para HEXADECIMAL''')\n",
    "\n",
    "opcao = int(input('Sua opção é: '))\n",
    "if opcao == 1:\n",
    "    print ('{} convertido para BINÁRIO é igual a {}'.format(num, bin(num)[2:]))\n",
    "elif opcao == 2:\n",
    "    print ('{} convertido para OCTAL é igual a {}'.format(num, oct(num)[2:]))\n",
    "elif opcao == 3:\n",
    "    print ('{} convertido para HEXADECIMAL é igual a {}'.format(num, hex(num)[2:]))\n",
    "else:\n",
    "    print ('Opção inválida. Tente novamente um número entre 1 e 3.')"
   ]
  },
  {
   "cell_type": "markdown",
   "id": "fa54e1cd",
   "metadata": {},
   "source": [
    "## Exercício 38 - comparando dois números"
   ]
  },
  {
   "cell_type": "code",
   "execution_count": 60,
   "id": "ba966c88",
   "metadata": {},
   "outputs": [
    {
     "name": "stdout",
     "output_type": "stream",
     "text": [
      "Digite o primeiro número: 2\n",
      "Digite o segundo número: 3\n",
      "O segundo valor é maior.\n"
     ]
    }
   ],
   "source": [
    "## Escreva um programa que leia dois números inteiros e compare-os, mostrando na tela uma das mensagens:\n",
    "## O primeiro valor é maior.\n",
    "## O segundo valor é maior.\n",
    "## Não existe valor maior, os dois são iguais.\n",
    "\n",
    "a = int(input('Digite o primeiro número: '))\n",
    "b = int(input('Digite o segundo número: '))\n",
    "\n",
    "if a > b:\n",
    "    print('O primeiro valor é maior.')\n",
    "if b > a:\n",
    "    print('O segundo valor é maior.')\n",
    "else:\n",
    "    print('Não existe valor maior, os dois são iguais')\n"
   ]
  },
  {
   "cell_type": "code",
   "execution_count": null,
   "id": "2ea779d7",
   "metadata": {},
   "outputs": [],
   "source": []
  }
 ],
 "metadata": {
  "kernelspec": {
   "display_name": "Python 3",
   "language": "python",
   "name": "python3"
  },
  "language_info": {
   "codemirror_mode": {
    "name": "ipython",
    "version": 3
   },
   "file_extension": ".py",
   "mimetype": "text/x-python",
   "name": "python",
   "nbconvert_exporter": "python",
   "pygments_lexer": "ipython3",
   "version": "3.8.8"
  }
 },
 "nbformat": 4,
 "nbformat_minor": 5
}
