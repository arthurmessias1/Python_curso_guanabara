{
 "cells": [
  {
   "cell_type": "code",
   "execution_count": 170,
   "id": "8bf0844f",
   "metadata": {},
   "outputs": [
    {
     "data": {
      "text/html": [
       "<div>\n",
       "<style scoped>\n",
       "    .dataframe tbody tr th:only-of-type {\n",
       "        vertical-align: middle;\n",
       "    }\n",
       "\n",
       "    .dataframe tbody tr th {\n",
       "        vertical-align: top;\n",
       "    }\n",
       "\n",
       "    .dataframe thead th {\n",
       "        text-align: right;\n",
       "    }\n",
       "</style>\n",
       "<table border=\"1\" class=\"dataframe\">\n",
       "  <thead>\n",
       "    <tr style=\"text-align: right;\">\n",
       "      <th></th>\n",
       "      <th>USDBRL</th>\n",
       "    </tr>\n",
       "  </thead>\n",
       "  <tbody>\n",
       "    <tr>\n",
       "      <th>ask</th>\n",
       "      <td>5.6509</td>\n",
       "    </tr>\n",
       "    <tr>\n",
       "      <th>bid</th>\n",
       "      <td>5.6487</td>\n",
       "    </tr>\n",
       "    <tr>\n",
       "      <th>code</th>\n",
       "      <td>USD</td>\n",
       "    </tr>\n",
       "    <tr>\n",
       "      <th>codein</th>\n",
       "      <td>BRL</td>\n",
       "    </tr>\n",
       "    <tr>\n",
       "      <th>create_date</th>\n",
       "      <td>2021-10-22 17:59:55</td>\n",
       "    </tr>\n",
       "    <tr>\n",
       "      <th>high</th>\n",
       "      <td>5.7544</td>\n",
       "    </tr>\n",
       "    <tr>\n",
       "      <th>low</th>\n",
       "      <td>5.6218</td>\n",
       "    </tr>\n",
       "    <tr>\n",
       "      <th>name</th>\n",
       "      <td>Dólar Americano/Real Brasileiro</td>\n",
       "    </tr>\n",
       "    <tr>\n",
       "      <th>pctChange</th>\n",
       "      <td>-0.14</td>\n",
       "    </tr>\n",
       "    <tr>\n",
       "      <th>timestamp</th>\n",
       "      <td>1634936395</td>\n",
       "    </tr>\n",
       "    <tr>\n",
       "      <th>varBid</th>\n",
       "      <td>-0.0079</td>\n",
       "    </tr>\n",
       "  </tbody>\n",
       "</table>\n",
       "</div>"
      ],
      "text/plain": [
       "                                      USDBRL\n",
       "ask                                   5.6509\n",
       "bid                                   5.6487\n",
       "code                                     USD\n",
       "codein                                   BRL\n",
       "create_date              2021-10-22 17:59:55\n",
       "high                                  5.7544\n",
       "low                                   5.6218\n",
       "name         Dólar Americano/Real Brasileiro\n",
       "pctChange                              -0.14\n",
       "timestamp                         1634936395\n",
       "varBid                               -0.0079"
      ]
     },
     "metadata": {},
     "output_type": "display_data"
    },
    {
     "data": {
      "text/html": [
       "<div>\n",
       "<style scoped>\n",
       "    .dataframe tbody tr th:only-of-type {\n",
       "        vertical-align: middle;\n",
       "    }\n",
       "\n",
       "    .dataframe tbody tr th {\n",
       "        vertical-align: top;\n",
       "    }\n",
       "\n",
       "    .dataframe thead th {\n",
       "        text-align: right;\n",
       "    }\n",
       "</style>\n",
       "<table border=\"1\" class=\"dataframe\">\n",
       "  <thead>\n",
       "    <tr style=\"text-align: right;\">\n",
       "      <th></th>\n",
       "      <th>ask</th>\n",
       "      <th>bid</th>\n",
       "      <th>code</th>\n",
       "      <th>codein</th>\n",
       "      <th>create_date</th>\n",
       "      <th>high</th>\n",
       "      <th>low</th>\n",
       "      <th>name</th>\n",
       "      <th>pctChange</th>\n",
       "      <th>timestamp</th>\n",
       "      <th>varBid</th>\n",
       "    </tr>\n",
       "  </thead>\n",
       "  <tbody>\n",
       "    <tr>\n",
       "      <th>USDBRL</th>\n",
       "      <td>5.6509</td>\n",
       "      <td>5.6487</td>\n",
       "      <td>USD</td>\n",
       "      <td>BRL</td>\n",
       "      <td>2021-10-22 17:59:55</td>\n",
       "      <td>5.7544</td>\n",
       "      <td>5.6218</td>\n",
       "      <td>Dólar Americano/Real Brasileiro</td>\n",
       "      <td>-0.14</td>\n",
       "      <td>1634936395</td>\n",
       "      <td>-0.0079</td>\n",
       "    </tr>\n",
       "  </tbody>\n",
       "</table>\n",
       "</div>"
      ],
      "text/plain": [
       "           ask     bid code codein          create_date    high     low  \\\n",
       "USDBRL  5.6509  5.6487  USD    BRL  2021-10-22 17:59:55  5.7544  5.6218   \n",
       "\n",
       "                                   name pctChange   timestamp   varBid  \n",
       "USDBRL  Dólar Americano/Real Brasileiro     -0.14  1634936395  -0.0079  "
      ]
     },
     "metadata": {},
     "output_type": "display_data"
    },
    {
     "data": {
      "text/html": [
       "<div>\n",
       "<style scoped>\n",
       "    .dataframe tbody tr th:only-of-type {\n",
       "        vertical-align: middle;\n",
       "    }\n",
       "\n",
       "    .dataframe tbody tr th {\n",
       "        vertical-align: top;\n",
       "    }\n",
       "\n",
       "    .dataframe thead th {\n",
       "        text-align: right;\n",
       "    }\n",
       "</style>\n",
       "<table border=\"1\" class=\"dataframe\">\n",
       "  <thead>\n",
       "    <tr style=\"text-align: right;\">\n",
       "      <th></th>\n",
       "      <th>USDBRL</th>\n",
       "    </tr>\n",
       "  </thead>\n",
       "  <tbody>\n",
       "    <tr>\n",
       "      <th>ask</th>\n",
       "      <td>5.6509</td>\n",
       "    </tr>\n",
       "  </tbody>\n",
       "</table>\n",
       "</div>"
      ],
      "text/plain": [
       "     USDBRL\n",
       "ask  5.6509"
      ]
     },
     "metadata": {},
     "output_type": "display_data"
    },
    {
     "data": {
      "text/plain": [
       "'5.6509'"
      ]
     },
     "metadata": {},
     "output_type": "display_data"
    },
    {
     "name": "stdout",
     "output_type": "stream",
     "text": [
      "o valor atual do dolar é 5.6509.\n"
     ]
    },
    {
     "data": {
      "text/plain": [
       "array([['5.6509'],\n",
       "       ['5.6487'],\n",
       "       ['USD'],\n",
       "       ['BRL'],\n",
       "       ['2021-10-22 17:59:55'],\n",
       "       ['5.7544'],\n",
       "       ['5.6218'],\n",
       "       ['Dólar Americano/Real Brasileiro'],\n",
       "       ['-0.14'],\n",
       "       ['1634936395'],\n",
       "       ['-0.0079']], dtype=object)"
      ]
     },
     "execution_count": 170,
     "metadata": {},
     "output_type": "execute_result"
    }
   ],
   "source": [
    "#Buscar Dolar via API\n",
    "import requests\n",
    "import pandas as pd\n",
    "\n",
    "df = pd.read_json('https://economia.awesomeapi.com.br/last/USD-BRL')\n",
    "\n",
    "display(df)\n",
    "\n",
    "df2 = df.transpose ()\n",
    "\n",
    "display(df2)\n",
    "\n",
    "type(df2)\n",
    "\n",
    "type(df)\n",
    "\n",
    "result = df.loc[[\"ask\"],[\"USDBRL\"]]\n",
    "\n",
    "series = df.loc[[\"ask\"],[\"USDBRL\"]].squeeze()\n",
    "\n",
    "display (result)\n",
    "\n",
    "display (series)\n",
    "\n",
    "dolar = df[\"USDBRL\"].values[0]\n",
    "\n",
    "print('o valor atual do dolar é {}.'.format(dolar))\n",
    "\n",
    "df.columns\n",
    "\n",
    "df.values"
   ]
  },
  {
   "cell_type": "code",
   "execution_count": 206,
   "id": "00252548",
   "metadata": {},
   "outputs": [
    {
     "name": "stdout",
     "output_type": "stream",
     "text": [
      "Quanto reais você deseja converter para dolar? 200\n",
      "O dolar hoje está 5.65 reais.\n",
      "O seu valor em dolar seria 1130.18 reais.\n"
     ]
    }
   ],
   "source": [
    "#Buscar Dolar via API\n",
    "import requests\n",
    "import pandas as pd\n",
    "\n",
    "reais = float(input('Quanto reais você deseja converter para dolar? '))\n",
    "\n",
    "df = pd.read_json('https://economia.awesomeapi.com.br/last/USD-BRL')\n",
    "\n",
    "df2 = df.transpose ()\n",
    "\n",
    "df2['ask'] = df2['ask'].astype('float64')\n",
    "\n",
    "##display(df2)\n",
    "\n",
    "dolar = df2[\"ask\"].values[0]\n",
    "\n",
    "##display (dolar)\n",
    "\n",
    "##df2.columns\n",
    "\n",
    "##df2.info()\n",
    "\n",
    "print('O dolar hoje está {:.2f} reais.'.format(dolar))\n",
    "\n",
    "print('O seu valor em dolar seria {} reais.'.format(dolar*reais))\n",
    "\n",
    "\n"
   ]
  },
  {
   "cell_type": "code",
   "execution_count": null,
   "id": "c1367a7d",
   "metadata": {},
   "outputs": [],
   "source": []
  }
 ],
 "metadata": {
  "kernelspec": {
   "display_name": "Python 3",
   "language": "python",
   "name": "python3"
  },
  "language_info": {
   "codemirror_mode": {
    "name": "ipython",
    "version": 3
   },
   "file_extension": ".py",
   "mimetype": "text/x-python",
   "name": "python",
   "nbconvert_exporter": "python",
   "pygments_lexer": "ipython3",
   "version": "3.8.8"
  }
 },
 "nbformat": 4,
 "nbformat_minor": 5
}
