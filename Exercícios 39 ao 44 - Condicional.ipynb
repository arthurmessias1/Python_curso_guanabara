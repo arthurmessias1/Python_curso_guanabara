{
 "cells": [
  {
   "cell_type": "markdown",
   "id": "eda49757",
   "metadata": {},
   "source": [
    "## Exercício 39 - Alistamento militar"
   ]
  },
  {
   "cell_type": "code",
   "execution_count": 2,
   "id": "00011ca9",
   "metadata": {},
   "outputs": [
    {
     "name": "stdout",
     "output_type": "stream",
     "text": [
      "Digite a sua data de nascimento: 29/03/1991\n"
     ]
    },
    {
     "ename": "NameError",
     "evalue": "name 'data_atual' is not defined",
     "output_type": "error",
     "traceback": [
      "\u001b[1;31m---------------------------------------------------------------------------\u001b[0m",
      "\u001b[1;31mNameError\u001b[0m                                 Traceback (most recent call last)",
      "\u001b[1;32m<ipython-input-2-afea5ae2aec1>\u001b[0m in \u001b[0;36m<module>\u001b[1;34m\u001b[0m\n\u001b[0;32m     15\u001b[0m \u001b[1;33m\u001b[0m\u001b[0m\n\u001b[0;32m     16\u001b[0m \u001b[1;31m# conversão data atual para padrão BR\u001b[0m\u001b[1;33m\u001b[0m\u001b[1;33m\u001b[0m\u001b[1;33m\u001b[0m\u001b[0m\n\u001b[1;32m---> 17\u001b[1;33m \u001b[0mhjtxt\u001b[0m \u001b[1;33m=\u001b[0m \u001b[0mdata_atual\u001b[0m\u001b[1;33m.\u001b[0m\u001b[0mstrftime\u001b[0m\u001b[1;33m(\u001b[0m\u001b[1;34m'%d/%m/%Y'\u001b[0m\u001b[1;33m)\u001b[0m\u001b[1;33m\u001b[0m\u001b[1;33m\u001b[0m\u001b[0m\n\u001b[0m\u001b[0;32m     18\u001b[0m \u001b[1;33m\u001b[0m\u001b[0m\n\u001b[0;32m     19\u001b[0m \u001b[1;31m# ano atual\u001b[0m\u001b[1;33m\u001b[0m\u001b[1;33m\u001b[0m\u001b[1;33m\u001b[0m\u001b[0m\n",
      "\u001b[1;31mNameError\u001b[0m: name 'data_atual' is not defined"
     ]
    }
   ],
   "source": [
    "## Faça um programa que leia o ano de nascimento de um jovem e informe de acordo com a sua idade se ele ainda vai se alistar,\n",
    "## ou ao serviço militar, se é a hora exata ou se já passou do tempo do alistamento.\n",
    "## O programa também deverá mostrar o tempo que falta ou que passou do prazo.\n",
    "\n",
    "from datetime import date\n",
    "\n",
    "# data de nascimento\n",
    "nasc = str(input('Digite a sua data de nascimento: '))\n",
    "\n",
    "# conversão para data de nascimento\n",
    "anonasc = nasc[6:]\n",
    "\n",
    "# dia autal\n",
    "hj = date.today()\n",
    "\n",
    "# conversão data atual para padrão BR\n",
    "hjtxt = data_atual.strftime('%d/%m/%Y')\n",
    "\n",
    "# ano atual\n",
    "ano = data_atual.strftime('%Y')\n",
    "\n",
    "# Para saber qual ano do alistamento atual, alistamento - 18\n",
    "alist = int(ano)-18\n",
    "print('Em {} o alistamento é para os nascidos no ano de {}.'.format (ano,alist))\n",
    "\n",
    "falta = int(anonasc) - alist\n",
    "\n",
    "# Condições para retorno \n",
    "\n",
    "if int(anonasc) == alist:\n",
    "    print('Este é o seu ano do alistamento, não perca o prazo')\n",
    "    \n",
    "elif int(anonasc) < alist:\n",
    "    print('Atenção, você já passou {} anos do prazo do alistamento, procure urgentemente o serviço militar.'.format(abs(falta)))\n",
    "\n",
    "else:\n",
    "    print('A sua hora vai chegar, ainda está faltando {} anos!'.format(abs(falta)))\n",
    "    \n",
    "    \n"
   ]
  },
  {
   "cell_type": "markdown",
   "id": "4f67727a",
   "metadata": {},
   "source": [
    "## Exercício 40 - média aluno - modo 1"
   ]
  },
  {
   "cell_type": "code",
   "execution_count": 3,
   "id": "4cd14580",
   "metadata": {},
   "outputs": [
    {
     "name": "stdout",
     "output_type": "stream",
     "text": [
      "Entre com a nota da primeira prova: 5\n",
      "Entre com a nota da segunda prova: 5\n",
      "Entre com a nota da segunda prova: 5\n",
      "\n",
      "\n",
      "\n",
      "Atenção, sua média foi 5.0, você está em recuperação, estude mais!\n"
     ]
    }
   ],
   "source": [
    "## Crie um programa que leia três notas, tire a média aritimética entre elas e no final imprima:\n",
    "## Média abaixo de 5.0: reprovado\n",
    "## Média entre 5.0 e 6.9: recuperação\n",
    "## Média 7.0 ou superior: aprovado\n",
    "\n",
    "nota1 = float(input('Entre com a nota da primeira prova: '))\n",
    "nota2 = float(input('Entre com a nota da segunda prova: '))\n",
    "nota3 = float(input('Entre com a nota da segunda prova: '))\n",
    "\n",
    "print('''\n",
    "\n",
    "''')\n",
    "\n",
    "media = (nota1 + nota2 + nota3) / 3\n",
    "\n",
    "if media >= 7.0:\n",
    "    print('Opa, sua média foi {:.1f}, parabéns pela aprovação!'.format(media))\n",
    "elif media < 5.0:\n",
    "    print('Infelizmente não deu, a sua média foi apenas {:.1f}, você foi reprovado direto.'.format(media))\n",
    "else:\n",
    "    print('Atenção, sua média foi {:.1f}, você está em recuperação, estude mais!'.format(media))"
   ]
  },
  {
   "cell_type": "markdown",
   "id": "ca117a65",
   "metadata": {},
   "source": [
    "## Exercício 40 - média aluno - modo 2 - numpy"
   ]
  },
  {
   "cell_type": "code",
   "execution_count": null,
   "id": "708bc7ba",
   "metadata": {},
   "outputs": [],
   "source": [
    "## Crie um programa que leia três notas, tire a média aritimética entre elas e no final imprima:\n",
    "## Média abaixo de 5.0: reprovado\n",
    "## Média entre 5.0 e 6.9: recuperação\n",
    "## Média 7.0 ou superior: aprovado\n",
    "\n",
    "import numpy as np\n",
    "\n",
    "nota1 = float(input('Entre com a nota da primeira prova: '))\n",
    "nota2 = float(input('Entre com a nota da segunda prova: '))\n",
    "nota3 = float(input('Entre com a nota da segunda prova: '))\n",
    "notas = [nota1,nota2,nota3]\n",
    "\n",
    "print('''\n",
    "\n",
    "''')\n",
    "\n",
    "media = np.mean(notas)\n",
    "\n",
    "if media >= 7.0:\n",
    "    print('Opa, sua média foi {:.1f}, parabéns pela aprovação!'.format(media))\n",
    "elif media < 5.0:\n",
    "    print('Infelizmente não deu, a sua média foi apenas {:.1f}, você foi reprovado direto.'.format(media))\n",
    "else:\n",
    "    print('Atenção, sua média foi {:.1f}, você está em recuperação, estude mais!'.format(media))"
   ]
  },
  {
   "cell_type": "markdown",
   "id": "620efc9b",
   "metadata": {},
   "source": [
    "## Exercício 41 - classificação atleta"
   ]
  },
  {
   "cell_type": "code",
   "execution_count": null,
   "id": "6c0f4a47",
   "metadata": {},
   "outputs": [],
   "source": [
    "## A confederação nacional de natação precisa de um programa que leia o ano de nascimento de um atleta,\n",
    "## mostre sua categoria de acordo com a idade:\n",
    "## até 9 anos: mirim\n",
    "## até 14 anos: infantil\n",
    "## até 19 anos: junior\n",
    "## até 25 anos: sênior\n",
    "## acima: master\n",
    "\n",
    "from datetime import date\n",
    "\n",
    "ano = int(input('Qual o seu ano de nascimento? '))\n",
    "anoatual = date.today().year\n",
    "idade = anoatual - ano\n",
    "\n",
    "if idade <= 9: \n",
    "    print('Você tem {} anos e está atualmente na categoria MIRIM.'.format(idade))\n",
    "elif idade <= 14: \n",
    "    print('Você tem {} anos e está atualmente na categoria INFANTIL.'.format(idade))\n",
    "elif idade <= 19: \n",
    "    print('Você tem {} anos e está atualmente na categoria JÚNIOR.'.format(idade))\n",
    "elif idade <= 25: \n",
    "    print('Você tem {} anos e está atualmente na categoria SÊNIOR.'.format(idade))\n",
    "else : \n",
    "    print('Você tem {} anos e está atualmente na categoria MASTER.'.format(idade))"
   ]
  },
  {
   "cell_type": "markdown",
   "id": "37041080",
   "metadata": {},
   "source": [
    "## Exercício 43 - IMC"
   ]
  },
  {
   "cell_type": "code",
   "execution_count": null,
   "id": "5e19ae6e",
   "metadata": {},
   "outputs": [],
   "source": [
    "## Entre com peso e altura e então diremos qual o IMC e qual faixa de peso se encontra.\n",
    "## Abaixo de 18.5: Abaixo do peso\n",
    "## Entre 18.5 e 25: Peso ideal\n",
    "## Entre 25 e 30: Sobrepeso\n",
    "## Entre 30 e 40: Obesidade\n",
    "## Entre acima de 40: Obesidade mórbida\n",
    "\n",
    "from datetime import date\n",
    "\n",
    "peso = float(input('Qual o seu peso? '))\n",
    "altura = float(input('Qual a sua altura? '))\n",
    "\n",
    "imc = peso / (altura*altura)\n",
    "\n",
    "if imc < 18.5: \n",
    "    print('Você tem {:.1f} de IMC e está abaixo do peso ideal.'.format(imc))\n",
    "elif 18.5 <= imc < 25: \n",
    "    print('Você tem {:.1f} de IMC e está no peso ideal.'.format(imc))\n",
    "elif 25 <= imc < 30: \n",
    "    print('Você tem {:.1f} de IMC e está com sobrepeso, cuidado!.'.format(imc))\n",
    "elif 30 <= imc < 40: \n",
    "    print('Você tem {:.1f} de IMC e está obeso, atenção!.'.format(imc))\n",
    "else : \n",
    "    print('Você tem {:.1f} de IMC está com obesidade mórbida, procure um médico urgentemente!'.format(imc))"
   ]
  },
  {
   "cell_type": "markdown",
   "id": "929bb585",
   "metadata": {},
   "source": [
    "## Exercício 44 - Desconto mediante forma de pagamento"
   ]
  },
  {
   "cell_type": "code",
   "execution_count": null,
   "id": "1656c3ac",
   "metadata": {},
   "outputs": [],
   "source": [
    "## Elabora um programa que calcule o valor a ser pago por um produto, considerando seu:\n",
    "## Preço normal e condição de pagamento.\n",
    "## À vista dinheiro/cheque: 10% de desconto;\n",
    "## À vista no cartão: 5% de desconto;\n",
    "## Em até 2x no cartão: preço normal;\n",
    "## 3x ou mais no cartão: 20% de juros.\n",
    "\n",
    "produto = float(input('''O que você quer comprar? \n",
    "[ 1 ] = Camisa\n",
    "[ 2 ] = Calça\n",
    "[ 3 ] = Bermuda\n",
    "[ 4 ] = Tênis\n",
    " \n",
    "'''))\n",
    "\n",
    "if produto == 1:\n",
    "    preço = 50\n",
    "elif produto == 2:\n",
    "    preço = 100\n",
    "elif produto == 3:\n",
    "    preço = 80\n",
    "elif produto == 4:\n",
    "    preço = 150\n",
    "    \n",
    "pag = int(input('''Qual a sua forma de pagamento? \n",
    "[ 1 ] = À vista dinheiro/cheque / 10% de desconto;\n",
    "[ 2 ] = À vista no cartão / 5% de desconto;\n",
    "[ 3 ] = Até 2x no cartão / 0% de desconto;\n",
    "[ 4 ] = Em 3x ou mais no cartão / 20% de juros;\n",
    " \n",
    "'''))\n",
    "\n",
    "if pag == 1:\n",
    "    total = preço - (0.1 * preço)\n",
    "elif pag == 2:\n",
    "    total = total = preço - (0.05 * preço)\n",
    "elif pag == 3:\n",
    "    total = total = preço\n",
    "elif pag == 4:\n",
    "    total = total = preço + (0.2 * preço)\n",
    "    \n",
    "print('Conforme a sua forma de pagamento, o total da sua compra será: R${:.2f}.'.format(total))\n"
   ]
  },
  {
   "cell_type": "markdown",
   "id": "efe09e0f",
   "metadata": {},
   "source": [
    "## Exercício 45 - Contagem regressiva 10 de 1 em 1 segundo."
   ]
  },
  {
   "cell_type": "code",
   "execution_count": null,
   "id": "8994b3b2",
   "metadata": {},
   "outputs": [],
   "source": [
    "## Faça um programa que mostre na tela uma contagem regressiva para o estouro de fogos de artifício.\n",
    "## Indo de 10 até 0, com pause de 1 segundo entre eles.\n",
    "\n",
    "for c in range (10,0,-1):\n",
    "    print(c)"
   ]
  },
  {
   "cell_type": "code",
   "execution_count": null,
   "id": "225759b7",
   "metadata": {},
   "outputs": [],
   "source": []
  }
 ],
 "metadata": {
  "kernelspec": {
   "display_name": "Python 3",
   "language": "python",
   "name": "python3"
  },
  "language_info": {
   "codemirror_mode": {
    "name": "ipython",
    "version": 3
   },
   "file_extension": ".py",
   "mimetype": "text/x-python",
   "name": "python",
   "nbconvert_exporter": "python",
   "pygments_lexer": "ipython3",
   "version": "3.8.8"
  }
 },
 "nbformat": 4,
 "nbformat_minor": 5
}
