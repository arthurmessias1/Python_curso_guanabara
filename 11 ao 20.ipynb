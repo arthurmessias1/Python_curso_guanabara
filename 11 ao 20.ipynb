{
 "cells": [
  {
   "cell_type": "markdown",
   "id": "782bb98b",
   "metadata": {},
   "source": [
    "## Exercício 11 - Pintando Parede"
   ]
  },
  {
   "cell_type": "code",
   "execution_count": 12,
   "id": "486f50ce",
   "metadata": {},
   "outputs": [
    {
     "name": "stdout",
     "output_type": "stream",
     "text": [
      "Digite a altura da parede:2\n",
      "Digite a largura da parede:2\n",
      "A área de parede é de 4.0 m².\n",
      "Sabendo que cada L de tinta pinta 2m², necessitaremos de 2.0 litros de tinta.\n"
     ]
    }
   ],
   "source": [
    "## Faça um programa que leia a largura e a altura de uma parede em metros, calcule a sua área e a quantidade de tinta\n",
    "## necessária para pinta-la sabendo que cada litro de tinta, pinta uma área de 2m².\n",
    "\n",
    "Altura = float(input('Digite a altura da parede:'))\n",
    "Largura = float(input('Digite a largura da parede:'))\n",
    "Area = Altura*Largura\n",
    "\n",
    "print ('A área de parede é de {} m².'.format(Area))\n",
    "print ('Sabendo que cada L de tinta pinta 2m², necessitaremos de {} litros de tinta.'.format(Area/2))\n"
   ]
  },
  {
   "cell_type": "markdown",
   "id": "6c1045c4",
   "metadata": {},
   "source": [
    "## Exercício 12 - Calculando descontos"
   ]
  },
  {
   "cell_type": "code",
   "execution_count": 29,
   "id": "0368d6d4",
   "metadata": {},
   "outputs": [
    {
     "name": "stdout",
     "output_type": "stream",
     "text": [
      "Digite o preço do produto:500\n",
      "Os 5% de desconto equivalem a R$ 25.0 e o preço já com desconto aplicado será de R$ 475.0.\n"
     ]
    }
   ],
   "source": [
    "## Faça um algoritmo que leia o preço de um produto e mostr seu novo preço com 5% de desconto.\n",
    "\n",
    "preco = float(input('Digite o preço do produto:'))\n",
    "desconto = preco*0.05\n",
    "novopreco = preco-desconto\n",
    "\n",
    "print ('Os 5% de desconto equivalem a R$ {} e o preço já com desconto aplicado será de R$ {}.'.format(desconto,novopreco))\n"
   ]
  },
  {
   "cell_type": "markdown",
   "id": "35507a75",
   "metadata": {},
   "source": [
    "## Exercício 13 - Salário Funcionário"
   ]
  },
  {
   "cell_type": "code",
   "execution_count": 37,
   "id": "46ec1010",
   "metadata": {},
   "outputs": [
    {
     "name": "stdout",
     "output_type": "stream",
     "text": [
      "Digite o valor do salário atual:1000\n",
      "Digite a porcentagem desejada de aumento:15\n",
      "O salário atual é R$ 1000.0.\n",
      "O aumento desejado é de 15.0%.\n",
      "O novo salário será de R$ 1150.0.\n"
     ]
    }
   ],
   "source": [
    "## Faça um algoritmo que leia o salario de um funcionário, o aumento desejado e o valor novo aplicado.\n",
    "\n",
    "salario = float(input('Digite o valor do salário atual:'))\n",
    "taxaaumento = float(input('Digite a porcentagem desejada de aumento:'))\n",
    "novosalario = salario+(salario*((taxaaumento/100)))\n",
    "\n",
    "print ('O salário atual é R$ {}.'.format(salario))\n",
    "print ('O aumento desejado é de {}%.'.format(taxaaumento))\n",
    "print ('O novo salário será de R$ {}.'.format(novosalario))"
   ]
  },
  {
   "cell_type": "markdown",
   "id": "7746e202",
   "metadata": {},
   "source": [
    "## Exercício 14 - Conversor temperatura C para F"
   ]
  },
  {
   "cell_type": "code",
   "execution_count": 46,
   "id": "e025fe60",
   "metadata": {},
   "outputs": [
    {
     "name": "stdout",
     "output_type": "stream",
     "text": [
      "Qual a temperatura em graus Celsius?40\n",
      "40.0 graus Celsius é o equivalente a 104 graus Fahrenheit.\n"
     ]
    }
   ],
   "source": [
    "## Faça um algoritmo que leia uma temperatura em celsius e converta para Fahrenheit.\n",
    "\n",
    "c = float(input('Qual a temperatura em graus Celsius?'))\n",
    "f = int(c*1.8+32)\n",
    "\n",
    "print ('{} graus Celsius é o equivalente a {} graus Fahrenheit.'.format(c,f))\n"
   ]
  },
  {
   "cell_type": "markdown",
   "id": "68c6d474",
   "metadata": {},
   "source": [
    "## Exercício 15 - Calculo carro alugado"
   ]
  },
  {
   "cell_type": "code",
   "execution_count": 52,
   "id": "3154f602",
   "metadata": {},
   "outputs": [
    {
     "name": "stdout",
     "output_type": "stream",
     "text": [
      "Digite quantos KM foram percorridos durante o período:100\n",
      "Por quantos dias ele foi alugado?:15\n",
      "Deve ser pago R$915.0 pelo uso do veículo no período.\n"
     ]
    }
   ],
   "source": [
    "## Escreva um programa que pergunte a quantidade de KM percorridos por um carro alugado e a quantidade de dias\n",
    "## pelos quais ele foi alugado. Calcule o preço a pagar, sabendo que o carro custa R$ 60 por dia e R$ 0,15 por KM rodado.\n",
    "\n",
    "km = int(input('Digite quantos KM foram percorridos durante o período:'))\n",
    "dias = int(input('Por quantos dias ele foi alugado?:'))\n",
    "pagar = float(dias*60+0.15*km)\n",
    "\n",
    "print ('Deve ser pago R${} pelo uso do veículo no período.'.format(pagar))\n"
   ]
  },
  {
   "cell_type": "markdown",
   "id": "c8b9bc9d",
   "metadata": {},
   "source": [
    "## Exercício 19 - Sorteio aluno aleatório para apagar o quadro."
   ]
  },
  {
   "cell_type": "code",
   "execution_count": 71,
   "id": "3e14e6df",
   "metadata": {},
   "outputs": [
    {
     "name": "stdout",
     "output_type": "stream",
     "text": [
      "Digite o nome do primeiro aluno: a\n",
      "Digite o nome do segundo aluno: e\n",
      "Digite o nome do terceiro aluno: a\n",
      "Digite o nome do quarto aluno: e\n",
      "e\n"
     ]
    }
   ],
   "source": [
    "## Um professor quer sortear um dos seus quatro alunos para apagar o quadro.\n",
    "## Faça um programa que ajude ele, lendo o nome deles e escrevendo o nome escolhido.\n",
    "\n",
    "import random\n",
    "\n",
    "a = str(input('Digite o nome do primeiro aluno: '))\n",
    "b = str(input('Digite o nome do segundo aluno: '))\n",
    "c = str(input('Digite o nome do terceiro aluno: '))\n",
    "d = str(input('Digite o nome do quarto aluno: '))\n",
    "lista=[a,b,c,d]\n",
    "\n",
    "random.choice(lista)\n",
    "\n",
    "print(nome)\n"
   ]
  },
  {
   "cell_type": "markdown",
   "id": "efebf9d5",
   "metadata": {},
   "source": [
    "## Exercício 20 - Ordem de apresentação dentre 4 alunos."
   ]
  },
  {
   "cell_type": "code",
   "execution_count": 70,
   "id": "911a4a24",
   "metadata": {},
   "outputs": [
    {
     "name": "stdout",
     "output_type": "stream",
     "text": [
      "Digite o nome do primeiro aluno: arthur\n",
      "Digite o nome do segundo aluno: joao\n",
      "Digite o nome do terceiro aluno: regi\n",
      "Digite o nome do quarto aluno: kleber\n",
      "['arthur', 'regi', 'joao', 'kleber']\n"
     ]
    }
   ],
   "source": [
    "## Um professor quer sortear um dos seus quatro alunos para apagar o quadro.\n",
    "## Faça um programa que ajude ele, lendo o nome deles e escrevendo o nome escolhido.\n",
    "\n",
    "import random\n",
    "\n",
    "a = str(input('Digite o nome do primeiro aluno: '))\n",
    "b = str(input('Digite o nome do segundo aluno: '))\n",
    "c = str(input('Digite o nome do terceiro aluno: '))\n",
    "d = str(input('Digite o nome do quarto aluno: '))\n",
    "lista = [a,b,c,d]\n",
    "\n",
    "random.shuffle(lista)\n",
    "\n",
    "print(lista)"
   ]
  },
  {
   "cell_type": "code",
   "execution_count": null,
   "id": "cadf2b73",
   "metadata": {},
   "outputs": [],
   "source": []
  }
 ],
 "metadata": {
  "kernelspec": {
   "display_name": "Python 3",
   "language": "python",
   "name": "python3"
  },
  "language_info": {
   "codemirror_mode": {
    "name": "ipython",
    "version": 3
   },
   "file_extension": ".py",
   "mimetype": "text/x-python",
   "name": "python",
   "nbconvert_exporter": "python",
   "pygments_lexer": "ipython3",
   "version": "3.8.8"
  }
 },
 "nbformat": 4,
 "nbformat_minor": 5
}
